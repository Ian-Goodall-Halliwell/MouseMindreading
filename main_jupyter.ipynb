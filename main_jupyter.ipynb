{
 "cells": [
  {
   "cell_type": "markdown",
   "id": "d21c651a-fcc0-4c22-8643-a9f5d93637f8",
   "metadata": {},
   "source": [
    "# Running our model scripts in 'main'"
   ]
  },
  {
   "cell_type": "markdown",
   "id": "c9a32df1-fce6-460f-834b-ac882f2d1815",
   "metadata": {},
   "source": [
    "## Loading in our Data"
   ]
  },
  {
   "cell_type": "code",
   "execution_count": 202,
   "id": "9de7e228-20a4-49c7-b6e7-b722dae174e2",
   "metadata": {},
   "outputs": [],
   "source": [
    "import os, requests, math\n",
    "import numpy as np\n",
    "import scipy as sp\n",
    "import matplotlib.pyplot as plt\n",
    "\n",
    "# For movement onset detection:\n",
    "from movement_onset_detection import movement_onset\n",
    "\n",
    "# For progress bars\n",
    "from tqdm.notebook import tqdm\n",
    "\n",
    "# So we will print out all of our trials in our jupyter notebook\n",
    "np.set_printoptions(threshold=300)\n",
    "\n",
    "# Setting out rcParams for plotting\n",
    "from matplotlib import rcParams\n",
    "rcParams['font.weight'] = 'bold'\n",
    "rcParams['font.size'] = 10\n",
    "rcParams['axes.spines.top'] = False\n",
    "rcParams['axes.spines.right'] = False\n",
    "rcParams['figure.autolayout'] = True"
   ]
  },
  {
   "cell_type": "code",
   "execution_count": 2,
   "id": "e625e402-77da-4f61-b362-90b3c23cb206",
   "metadata": {},
   "outputs": [],
   "source": [
    "# Getting our data from the steinmetz data set\n",
    "# %run download.py\n",
    "\n",
    "fname = []\n",
    "for j in range(3):\n",
    "  fname.append('steinmetz_part%d.npz'%j)\n",
    "url = [\"https://osf.io/agvxh/download\"]\n",
    "url.append(\"https://osf.io/uv3mw/download\")\n",
    "url.append(\"https://osf.io/ehmw2/download\")\n",
    "\n",
    "for j in range(len(url)):\n",
    "  if not os.path.isfile(fname[j]):\n",
    "    try:\n",
    "      r = requests.get(url[j])\n",
    "    except requests.ConnectionError:\n",
    "      print(\"!!! Failed to download data !!!\")\n",
    "    else:\n",
    "      if r.status_code != requests.codes.ok:\n",
    "        print(\"!!! Failed to download data !!!\")\n",
    "      else:\n",
    "        with open(fname[j], \"wb\") as fid:\n",
    "          fid.write(r.content)\n",
    "\n",
    "\n",
    "alldat = np.array([])\n",
    "for j in range(len(fname)):\n",
    "  alldat = np.hstack((alldat,\n",
    "                      np.load('steinmetz_part%d.npz'%j,\n",
    "                              allow_pickle=True)['dat']))\n",
    "for j in range(len(fname)):\n",
    "  os.remove('steinmetz_part%d.npz'%j)\n",
    "np.save(\"alldata\",alldat)"
   ]
  },
  {
   "cell_type": "markdown",
   "id": "3ec3cef7-7203-48d5-8cd8-94cea17a4c8c",
   "metadata": {},
   "source": [
    "`alldat` contains 39 sessions from 10 mice, data from Steinmetz et al, 2019. Time bins for all measurements are 10ms, starting 500ms before stimulus onset. The mouse had to determine which side has the highest contrast. For each `dat = alldat[k]`, you have the fields below. For extra variables, check out the extra notebook and extra data files (lfp, waveforms and exact spike times, non-binned).\n",
    "\n",
    "NB: that the time point data other than the spike (gocue, response_time, etc are all time linked to the stimulus presentation time).\n",
    "\n",
    "The recordings also just come from the left hemisphere.\n",
    "\n",
    "* `dat['mouse_name']`: mouse name\n",
    "* `dat['date_exp']`: when a session was performed\n",
    "* `dat['spks']`: neurons by trials by time bins.    \n",
    "* `dat['brain_area']`: brain area for each neuron recorded.\n",
    "* `dat['ccf']`: Allen Institute brain atlas coordinates for each neuron.\n",
    "* `dat['ccf_axes']`: axes names for the Allen CCF.\n",
    "* `dat['contrast_right']`: contrast level for the right stimulus, which is always contralateral to the recorded brain areas.\n",
    "* `dat['contrast_left']`: contrast level for left stimulus.\n",
    "* `dat['gocue']`: when the go cue sound was played. (this is relative to 0?)\n",
    "* `dat['response_time']`: when the response was registered, which has to be after the go cue. The mouse can turn the wheel before the go cue (and nearly always does!), but the stimulus on the screen won't move before the go cue.  \n",
    "* `dat['response']`: which side the response was (`-1`, `0`, `1`). When the right-side stimulus had higher contrast, the correct choice was `-1`. `0` is a no go response.\n",
    "* `dat['feedback_time']`: when feedback was provided.\n",
    "* `dat['feedback_type']`: if the feedback was positive (`+1`, reward) or negative (`-1`, white noise burst).  \n",
    "* `dat['wheel']`: turning speed of the wheel that the mice uses to make a response, sampled at `10ms`.\n",
    "* `dat['pupil']`: pupil area  (noisy, because pupil is very small) + pupil horizontal and vertical position.\n",
    "* `dat['face']`: average face motion energy from a video camera.\n",
    "* `dat['licks']`: lick detections, 0 or 1.   \n",
    "* `dat['trough_to_peak']`: measures the width of the action potential waveform for each neuron. Widths `<=10` samples are \"putative fast spiking neurons\".\n",
    "* `dat['%X%_passive']`: same as above for `X` = {`spks`, `pupil`, `wheel`, `contrast_left`, `contrast_right`} but for  passive trials at the end of the recording when the mouse was no longer engaged and stopped making responses.\n",
    "* `dat['prev_reward']`: time of the feedback (reward/white noise) on the previous trial in relation to the current stimulus time.\n",
    "* `dat['reaction_time']`: ntrials by 2. First column: reaction time computed from the wheel movement as the first sample above `5` ticks/10ms bin. Second column: direction of the wheel movement (`0` = no move detected).  \n",
    "\n",
    "\n",
    "The original dataset is here: https://figshare.com/articles/dataset/Dataset_from_Steinmetz_et_al_2019/9598406"
   ]
  },
  {
   "cell_type": "code",
   "execution_count": 3,
   "id": "78a3d1a4-7369-4a50-9b27-c1e59c7a77d3",
   "metadata": {},
   "outputs": [
    {
     "name": "stdout",
     "output_type": "stream",
     "text": [
      "(734, 214, 250)\n",
      "(214, 250)\n",
      "['ACA' 'MOs' 'ACA' ... 'DG' 'VISp' 'DG']\n"
     ]
    }
   ],
   "source": [
    "mouse_num = 0\n",
    "cur_mouse = alldat[mouse_num]\n",
    "cur_mouse_spks = cur_mouse['spks']\n",
    "print(cur_mouse_spks.shape)\n",
    "print(cur_mouse_spks[1].shape)\n",
    "\n",
    "print(cur_mouse['brain_area'])"
   ]
  },
  {
   "cell_type": "code",
   "execution_count": 4,
   "id": "08a7439d-4ff5-4d36-ade7-beb88dfc61d7",
   "metadata": {},
   "outputs": [
    {
     "name": "stdout",
     "output_type": "stream",
     "text": [
      "Number of Neurons in brain region for mouse 0: 113\n",
      "mask size:  734\n",
      "--------------------------------------------------------------------------------\n",
      "mouse spike shape:  (734, 214, 250)\n"
     ]
    }
   ],
   "source": [
    "# Make a plot of which brain areas are present in each dataset\n",
    "# note that region 4 (\"other ctx\" are neurons that were not able to be classified)\n",
    "# region 4 does not correspond to brain_group 4, which are all cortical neurons outside of visual cortex\n",
    "regions = [\"vis ctx\", \"thal\", \"hipp\", \"other ctx\", \"midbrain\", \"basal ganglia\", \"cortical subplate\", \"other\"]\n",
    "region_colors = ['blue', 'red', 'green', 'darkblue', 'violet', 'lightblue', 'orange', 'gray']\n",
    "brain_groups = [[\"VISa\", \"VISam\", \"VISl\", \"VISp\", \"VISpm\", \"VISrl\"],  # visual cortex\n",
    "                [\"CL\", \"LD\", \"LGd\", \"LH\", \"LP\", \"MD\", \"MG\", \"PO\", \"POL\", \"PT\", \"RT\", \"SPF\", \"TH\", \"VAL\", \"VPL\", \"VPM\"], # thalamus\n",
    "                [\"CA\", \"CA1\", \"CA2\", \"CA3\", \"DG\", \"SUB\", \"POST\"],  # hippocampal\n",
    "                [\"ACA\", \"AUD\", \"COA\", \"DP\", \"ILA\", \"MOp\", \"MOs\", \"OLF\", \"ORB\", \"ORBm\", \"PIR\", \"PL\", \"SSp\", \"SSs\", \"RSP\",\"TT\"],  # non-visual cortex\n",
    "                [\"APN\", \"IC\", \"MB\", \"MRN\", \"NB\", \"PAG\", \"RN\", \"SCs\", \"SCm\", \"SCig\", \"SCsg\", \"ZI\"],  # midbrain\n",
    "                [\"ACB\", \"CP\", \"GPe\", \"LS\", \"LSc\", \"LSr\", \"MS\", \"OT\", \"SNr\", \"SI\"],  # basal ganglia\n",
    "                [\"BLA\", \"BMA\", \"EP\", \"EPd\", \"MEA\"]  # cortical subplate\n",
    "                ]\n",
    "\n",
    "#-- Selecting a particular brain region for analysis --#\n",
    "brain_region = 'MOs'\n",
    "\n",
    "# Creating a mask for region, and exploring amount in each region\n",
    "region_mask = brain_region == cur_mouse['brain_area']\n",
    "print(f\"Number of Neurons in brain region for mouse {mouse_num}:\", sum(region_mask))\n",
    "print(\"mask size: \", len(region_mask))\n",
    "\n",
    "print('-'*80)\n",
    "print(\"mouse spike shape: \",cur_mouse_spks.shape)"
   ]
  },
  {
   "cell_type": "code",
   "execution_count": 5,
   "id": "2e01774e-7ab4-4f6b-b766-08a3e9cb3283",
   "metadata": {},
   "outputs": [
    {
     "data": {
      "image/png": "[encoded data removed]",
      "text/plain": [
       "<Figure size 1000x400 with 2 Axes>"
      ]
     },
     "metadata": {},
     "output_type": "display_data"
    }
   ],
   "source": [
    "#-- Selecting out the trials for one mouse in the region of interest --#\n",
    "trial_no = 30\n",
    "\n",
    "# Plotting a raster of our neurons for the trial:\n",
    "fig, ax = plt.subplots(figsize = (10,4))\n",
    "cb = ax.imshow(cur_mouse_spks[region_mask, trial_no, :], cmap='gray_r', vmax = 3, vmin=0, aspect='auto')\n",
    "ax.set_xlabel('Time (ms)', fontweight = 'bold')\n",
    "ax.set_ylabel('Cell #', fontweight = 'bold')\n",
    "ax.set_title(f\"Session: {mouse_num}, trial: {trial_no} \\n Brain region: {brain_region}\", fontweight = 'bold')\n",
    "ax.axvline(68, linewidth = 3, label = 'Determined Movement Onset')\n",
    "fig.colorbar(orientation='vertical', label='# Spikes in 10ms time bin', ax = ax, mappable = cb)\n",
    "\n",
    "# resetting our x-axis to be correct (by hard coding)\n",
    "x_positions = [0, 50, 100, 150, 200, 250]\n",
    "x_labels = [0, 500, 1000, 1500, 2000, 2500]\n",
    "plt.xticks(x_positions, x_labels)\n",
    "\n",
    "\n",
    "\n",
    "ax.legend(frameon= False)\n",
    "plt.tight_layout()\n",
    "plt.savefig('RasterIndivTrial.png', dpi = 300)"
   ]
  },
  {
   "cell_type": "code",
   "execution_count": 6,
   "id": "128ef38f-e99b-4161-8bd8-0e4ea03f6c02",
   "metadata": {},
   "outputs": [
    {
     "name": "stdout",
     "output_type": "stream",
     "text": [
      "[113.   0.   0.  92.  29.   0.   0. 112.   0.   0.   0.   6.  46. 186.\n",
      "   0.   0.   0.   0.   0.   0.   0.  65.   0.   0.  80. 166.  97.   0.\n",
      "   0.  38. 281.  69.   0.   0.  34.  41. 233.   0.  54.]\n"
     ]
    }
   ],
   "source": [
    "# Collecting the number of neurons in given region for all mice:\n",
    "mouse_region_arr = np.zeros(len(alldat))\n",
    "for i in range(len(alldat)):\n",
    "    mouse_select = alldat[i]\n",
    "    region_mask = brain_region == mouse_select['brain_area']\n",
    "    total_neurons_region = sum(region_mask)\n",
    "    mouse_region_arr[i] = total_neurons_region\n",
    "    \n",
    "print(mouse_region_arr)"
   ]
  },
  {
   "cell_type": "code",
   "execution_count": 7,
   "id": "851a595c-897d-4dbd-bafb-5cbbdeb87564",
   "metadata": {},
   "outputs": [
    {
     "data": {
      "image/png": "[encoded data removed]",
      "text/plain": [
       "<Figure size 1000x400 with 1 Axes>"
      ]
     },
     "metadata": {},
     "output_type": "display_data"
    }
   ],
   "source": [
    "# Plotting a bar plot of the number of neurons in our given brain region for each mouse\n",
    "fig, ax = plt.subplots(figsize = (10,4))\n",
    "\n",
    "ax.bar(np.arange(len(mouse_region_arr)),mouse_region_arr, color = 'black', width = .8)\n",
    "ax.set_xticks(np.arange(len(mouse_region_arr)));\n",
    "\n",
    "# Axis formatting\n",
    "ax.set_title(f\"Number of Neurons in {brain_region}\", fontweight = 'bold')\n",
    "ax.set_ylabel('Count', fontweight = 'bold')\n",
    "ax.set_xlabel('Session Number', fontweight = 'bold')\n",
    "\n",
    "plt.tight_layout()\n",
    "plt.savefig('NeuronRegionCount.png', dpi = 300)"
   ]
  },
  {
   "cell_type": "markdown",
   "id": "3a266120-3d17-49ec-bbb4-c07516cf58f0",
   "metadata": {},
   "source": [
    "# Processing our Data"
   ]
  },
  {
   "cell_type": "code",
   "execution_count": 216,
   "id": "3b9d5422-9729-48d0-9d0c-0b110857c805",
   "metadata": {},
   "outputs": [
    {
     "name": "stdout",
     "output_type": "stream",
     "text": [
      "Number of std's above baseline for first threshold:  2\n",
      "Number of data points for second threshold:  10\n"
     ]
    },
    {
     "data": {
      "application/vnd.jupyter.widget-view+json": {
       "model_id": "332a9b2242164caba741ab5df9403302",
       "version_major": 2,
       "version_minor": 0
      },
      "text/plain": [
       "  0%|          | 0/39 [00:00<?, ?it/s]"
      ]
     },
     "metadata": {},
     "output_type": "display_data"
    },
    {
     "name": "stdout",
     "output_type": "stream",
     "text": [
      "Total Failures to detect onset:  1876\n",
      "--------------------------------------------------\n"
     ]
    },
    {
     "data": {
      "application/vnd.jupyter.widget-view+json": {
       "model_id": "97991d2b624843b3b0cb14248869a233",
       "version_major": 2,
       "version_minor": 0
      },
      "text/plain": [
       "  0%|          | 0/39 [00:00<?, ?it/s]"
      ]
     },
     "metadata": {},
     "output_type": "display_data"
    },
    {
     "name": "stdout",
     "output_type": "stream",
     "text": [
      "For mouse 0\n",
      "--------------------------------------------------\n",
      "Shape of spikes before masking:  (734, 214, 250)\n",
      "Shape of spikes after regional masking:  (113, 214, 250)\n",
      "Shape of allen_coords arr:  (113, 3)\n",
      "Shape of filtered data:  (113, 165, 15)\n",
      "Swapping axes of filtered data (trials, neurons, time):  (165, 113, 15)\n",
      "Shape of our total 'flattened' data rebinned:  (165, 250, 15)\n",
      "++++++++++++++++++++++++++++++++++++++++++++++++++\n",
      "For mouse 1\n",
      "--------------------------------------------------\n",
      "For mouse 2\n",
      "--------------------------------------------------\n",
      "For mouse 3\n",
      "--------------------------------------------------\n",
      "Shape of spikes before masking:  (1769, 249, 250)\n",
      "Shape of spikes after regional masking:  (92, 249, 250)\n",
      "Shape of allen_coords arr:  (92, 3)\n",
      "Shape of filtered data:  (92, 170, 15)\n",
      "Swapping axes of filtered data (trials, neurons, time):  (170, 92, 15)\n",
      "Shape of our total 'flattened' data rebinned:  (170, 250, 15)\n",
      "++++++++++++++++++++++++++++++++++++++++++++++++++\n",
      "For mouse 4\n",
      "--------------------------------------------------\n",
      "Shape of spikes before masking:  (1077, 254, 250)\n",
      "Shape of spikes after regional masking:  (29, 254, 250)\n",
      "Shape of allen_coords arr:  (29, 3)\n",
      "Shape of filtered data:  (29, 182, 15)\n",
      "Swapping axes of filtered data (trials, neurons, time):  (182, 29, 15)\n",
      "Shape of our total 'flattened' data rebinned:  (182, 250, 15)\n",
      "++++++++++++++++++++++++++++++++++++++++++++++++++\n",
      "For mouse 5\n",
      "--------------------------------------------------\n",
      "For mouse 6\n",
      "--------------------------------------------------\n",
      "For mouse 7\n",
      "--------------------------------------------------\n",
      "Shape of spikes before masking:  (1156, 250, 250)\n",
      "Shape of spikes after regional masking:  (112, 250, 250)\n",
      "Shape of allen_coords arr:  (112, 3)\n",
      "Shape of filtered data:  (112, 191, 15)\n",
      "Swapping axes of filtered data (trials, neurons, time):  (191, 112, 15)\n",
      "Shape of our total 'flattened' data rebinned:  (191, 250, 15)\n",
      "++++++++++++++++++++++++++++++++++++++++++++++++++\n",
      "For mouse 8\n",
      "--------------------------------------------------\n",
      "For mouse 9\n",
      "--------------------------------------------------\n",
      "For mouse 10\n",
      "--------------------------------------------------\n",
      "For mouse 11\n",
      "--------------------------------------------------\n",
      "For mouse 12\n",
      "--------------------------------------------------\n",
      "Shape of spikes before masking:  (983, 300, 250)\n",
      "Shape of spikes after regional masking:  (46, 300, 250)\n",
      "Shape of allen_coords arr:  (46, 3)\n",
      "Shape of filtered data:  (46, 291, 15)\n",
      "Swapping axes of filtered data (trials, neurons, time):  (291, 46, 15)\n",
      "Shape of our total 'flattened' data rebinned:  (291, 250, 15)\n",
      "++++++++++++++++++++++++++++++++++++++++++++++++++\n",
      "For mouse 13\n",
      "--------------------------------------------------\n",
      "Shape of spikes before masking:  (756, 268, 250)\n",
      "Shape of spikes after regional masking:  (186, 268, 250)\n",
      "Shape of allen_coords arr:  (186, 3)\n",
      "Shape of filtered data:  (186, 246, 15)\n",
      "Swapping axes of filtered data (trials, neurons, time):  (246, 186, 15)\n",
      "Shape of our total 'flattened' data rebinned:  (246, 250, 15)\n",
      "++++++++++++++++++++++++++++++++++++++++++++++++++\n",
      "For mouse 14\n",
      "--------------------------------------------------\n",
      "For mouse 15\n",
      "--------------------------------------------------\n",
      "For mouse 16\n",
      "--------------------------------------------------\n",
      "For mouse 17\n",
      "--------------------------------------------------\n",
      "For mouse 18\n",
      "--------------------------------------------------\n",
      "For mouse 19\n",
      "--------------------------------------------------\n",
      "For mouse 20\n",
      "--------------------------------------------------\n",
      "For mouse 21\n",
      "--------------------------------------------------\n",
      "Shape of spikes before masking:  (646, 444, 250)\n",
      "Shape of spikes after regional masking:  (65, 444, 250)\n",
      "Shape of allen_coords arr:  (65, 3)\n",
      "Shape of filtered data:  (65, 366, 15)\n",
      "Swapping axes of filtered data (trials, neurons, time):  (366, 65, 15)\n",
      "Shape of our total 'flattened' data rebinned:  (366, 250, 15)\n",
      "++++++++++++++++++++++++++++++++++++++++++++++++++\n",
      "For mouse 22\n",
      "--------------------------------------------------\n",
      "For mouse 23\n",
      "--------------------------------------------------\n",
      "For mouse 24\n",
      "--------------------------------------------------\n",
      "Shape of spikes before masking:  (885, 261, 250)\n",
      "Shape of spikes after regional masking:  (80, 261, 250)\n",
      "Shape of allen_coords arr:  (80, 3)\n",
      "Shape of filtered data:  (80, 213, 15)\n",
      "Swapping axes of filtered data (trials, neurons, time):  (213, 80, 15)\n",
      "Shape of our total 'flattened' data rebinned:  (213, 250, 15)\n",
      "++++++++++++++++++++++++++++++++++++++++++++++++++\n",
      "For mouse 25\n",
      "--------------------------------------------------\n",
      "Shape of spikes before masking:  (1056, 178, 250)\n",
      "Shape of spikes after regional masking:  (166, 178, 250)\n",
      "Shape of allen_coords arr:  (166, 3)\n",
      "Shape of filtered data:  (166, 140, 15)\n",
      "Swapping axes of filtered data (trials, neurons, time):  (140, 166, 15)\n",
      "Shape of our total 'flattened' data rebinned:  (140, 250, 15)\n",
      "++++++++++++++++++++++++++++++++++++++++++++++++++\n",
      "For mouse 26\n",
      "--------------------------------------------------\n",
      "Shape of spikes before masking:  (563, 253, 250)\n",
      "Shape of spikes after regional masking:  (97, 253, 250)\n",
      "Shape of allen_coords arr:  (97, 3)\n",
      "Shape of filtered data:  (97, 193, 15)\n",
      "Swapping axes of filtered data (trials, neurons, time):  (193, 97, 15)\n",
      "Shape of our total 'flattened' data rebinned:  (193, 250, 15)\n",
      "++++++++++++++++++++++++++++++++++++++++++++++++++\n",
      "For mouse 27\n",
      "--------------------------------------------------\n",
      "For mouse 28\n",
      "--------------------------------------------------\n",
      "For mouse 29\n",
      "--------------------------------------------------\n",
      "Shape of spikes before masking:  (942, 143, 250)\n",
      "Shape of spikes after regional masking:  (38, 143, 250)\n",
      "Shape of allen_coords arr:  (38, 3)\n",
      "Shape of filtered data:  (38, 70, 15)\n",
      "Swapping axes of filtered data (trials, neurons, time):  (70, 38, 15)\n",
      "Shape of our total 'flattened' data rebinned:  (70, 250, 15)\n",
      "++++++++++++++++++++++++++++++++++++++++++++++++++\n",
      "For mouse 30\n",
      "--------------------------------------------------\n",
      "Shape of spikes before masking:  (977, 237, 250)\n",
      "Shape of spikes after regional masking:  (281, 237, 250)\n",
      "Shape of allen_coords arr:  (281, 3)\n",
      "Shape of filtered data:  (281, 181, 15)\n",
      "Swapping axes of filtered data (trials, neurons, time):  (181, 281, 15)\n",
      "Shape of our total 'flattened' data rebinned:  (181, 250, 15)\n",
      "++++++++++++++++++++++++++++++++++++++++++++++++++\n",
      "For mouse 31\n",
      "--------------------------------------------------\n",
      "Shape of spikes before masking:  (522, 260, 250)\n",
      "Shape of spikes after regional masking:  (69, 260, 250)\n",
      "Shape of allen_coords arr:  (69, 3)\n",
      "Shape of filtered data:  (69, 201, 15)\n",
      "Swapping axes of filtered data (trials, neurons, time):  (201, 69, 15)\n",
      "Shape of our total 'flattened' data rebinned:  (201, 250, 15)\n",
      "++++++++++++++++++++++++++++++++++++++++++++++++++\n",
      "For mouse 32\n",
      "--------------------------------------------------\n",
      "For mouse 33\n",
      "--------------------------------------------------\n",
      "For mouse 34\n",
      "--------------------------------------------------\n",
      "Shape of spikes before masking:  (795, 311, 250)\n",
      "Shape of spikes after regional masking:  (34, 311, 250)\n",
      "Shape of allen_coords arr:  (34, 3)\n",
      "Shape of filtered data:  (34, 273, 15)\n",
      "Swapping axes of filtered data (trials, neurons, time):  (273, 34, 15)\n",
      "Shape of our total 'flattened' data rebinned:  (273, 250, 15)\n",
      "++++++++++++++++++++++++++++++++++++++++++++++++++\n",
      "For mouse 35\n",
      "--------------------------------------------------\n",
      "Shape of spikes before masking:  (680, 258, 250)\n",
      "Shape of spikes after regional masking:  (41, 258, 250)\n",
      "Shape of allen_coords arr:  (41, 3)\n",
      "Shape of filtered data:  (41, 199, 15)\n",
      "Swapping axes of filtered data (trials, neurons, time):  (199, 41, 15)\n",
      "Shape of our total 'flattened' data rebinned:  (199, 250, 15)\n",
      "++++++++++++++++++++++++++++++++++++++++++++++++++\n",
      "For mouse 36\n",
      "--------------------------------------------------\n",
      "Shape of spikes before masking:  (1055, 181, 250)\n",
      "Shape of spikes after regional masking:  (233, 181, 250)\n",
      "Shape of allen_coords arr:  (233, 3)\n",
      "Shape of filtered data:  (233, 134, 15)\n",
      "Swapping axes of filtered data (trials, neurons, time):  (134, 233, 15)\n",
      "Shape of our total 'flattened' data rebinned:  (134, 250, 15)\n",
      "++++++++++++++++++++++++++++++++++++++++++++++++++\n",
      "For mouse 37\n",
      "--------------------------------------------------\n",
      "For mouse 38\n",
      "--------------------------------------------------\n",
      "Shape of spikes before masking:  (1348, 343, 250)\n",
      "Shape of spikes after regional masking:  (54, 343, 250)\n",
      "Shape of allen_coords arr:  (54, 3)\n",
      "Shape of filtered data:  (54, 308, 15)\n",
      "Swapping axes of filtered data (trials, neurons, time):  (308, 54, 15)\n",
      "Shape of our total 'flattened' data rebinned:  (308, 250, 15)\n",
      "++++++++++++++++++++++++++++++++++++++++++++++++++\n",
      "shape of all data:  (3523, 250, 15)\n",
      "shape of all labels:  (3523,)\n"
     ]
    }
   ],
   "source": [
    "# Pulling in all our data, and processing it:\n",
    "alldat = np.load(\"alldata.npy\", allow_pickle=True);\n",
    "min_neurons_in_region = 10\n",
    "brain_region = 'MOs'\n",
    "bin_shrinkage_factor = 50\n",
    "timepoints_back = 15\n",
    "\n",
    "\n",
    "# Creating a wheel velocity dictionary for every mouse\n",
    "mouse_vels = {}\n",
    "for i in range(len(alldat)):\n",
    "  mouse_dict = alldat[i]\n",
    "  wheel_vel = mouse_dict['wheel'][0]\n",
    "  mouse_vels[f\"mouse{i}\"] = wheel_vel\n",
    "\n",
    "onset_indices = movement_onset(mouse_vels, stds = 2, main_time = 100, time_buffer = 12)\n",
    "print(\"-\"*50)\n",
    "\n",
    "mice_region_spikes = [] \n",
    "mice_labels = []\n",
    "i = 0\n",
    "for i in tqdm(range(len(alldat))):\n",
    "    print(f'For mouse {i}')\n",
    "    mouse_select = alldat[i] # Selecting an individual mouse/session\n",
    "    region_mask = brain_region == mouse_select['brain_area']\n",
    "    print(\"-\"*50)\n",
    "    \n",
    "    # Only selecting mouse with > min # of neurons in brain region. Also filters out non-dentified trials.\n",
    "    if sum(region_mask) > min_neurons_in_region:\n",
    "        # # Getting our allen atlas coordinate range for flattening\n",
    "        # print(\"Max allen coordinates found: \", np.max(alldat[i][\"ccf\"][region_mask], axis = 0))\n",
    "    \n",
    "    \n",
    "        print(\"Shape of spikes before masking: \", mouse_select[\"spks\"].shape)\n",
    "        mouse_spikes = mouse_select[\"spks\"][region_mask]\n",
    "        print(\"Shape of spikes after regional masking: \", mouse_spikes.shape)\n",
    "        mouse_neuron_allen_coords = mouse_select['ccf'][region_mask]\n",
    "        print(\"Shape of allen_coords arr: \", mouse_neuron_allen_coords.shape)\n",
    "\n",
    "    \n",
    "    \n",
    "        #-- Grabbing our spike data from a number of time points back for each trial --#\n",
    "        movement_onsets = onset_indices[f\"mouse{i}\"]\n",
    "        spikes_from_onset = [] # preallocating sliced data\n",
    "        for trial in range(mouse_spikes.shape[1]): # grabbing each trial index\n",
    "            # creates 2d array with each neuron being a row\n",
    "            if math.isnan(movement_onsets[trial]) == False:\n",
    "                sliced_spikes = mouse_spikes[:, trial, \n",
    "                    movement_onsets[trial]-timepoints_back:movement_onsets[trial]]\n",
    "                sliced_spikes = np.expand_dims(sliced_spikes, axis = 1) # insert an extra dimension to make each neuron its own matrix\n",
    "                spikes_from_onset.append(sliced_spikes)\n",
    "                \n",
    "    \n",
    "        spikes_from_onset = np.concatenate(spikes_from_onset, axis = 1) # concatenating our trial bins; neurons, trials, time\n",
    "        print(\"Shape of filtered data: \", spikes_from_onset.shape)\n",
    "    \n",
    "        # swapping our axes to get trial # to be first index:\n",
    "        spikes_from_onset = np.swapaxes(spikes_from_onset,0,1)\n",
    "        print(\"Swapping axes of filtered data (trials, neurons, time): \", spikes_from_onset.shape) # trials, neurons, time\n",
    "        \n",
    "        #-- Reshaping our neuron spikes and allen coordinates into a 1D array: --#\n",
    "        \n",
    "        # We want to embed our spike data now, for each trial. We need a vector of spike data\n",
    "        # for each neuron. We need to expand our neuron dimension to be the 'length' of our\n",
    "        # flattened dimensions, and then embed along those dimensions\n",
    "    \n",
    "        flat_dimension_size = int((4030+3012+5473)/bin_shrinkage_factor) # \n",
    "        mouse_region_spikes = np.zeros((spikes_from_onset.shape[0], \n",
    "                                      flat_dimension_size, spikes_from_onset.shape[2]))\n",
    "\n",
    "        # Using the rounding in 'int' to basically do our binning for us\n",
    "        for i in range(spikes_from_onset.shape[1]):\n",
    "            mouse_region_spikes[:, int(mouse_neuron_allen_coords[i, 0]/bin_shrinkage_factor), :] = spikes_from_onset[:, i, :]\n",
    "            mouse_region_spikes[:, int(mouse_neuron_allen_coords[i, 1]/bin_shrinkage_factor), :] = spikes_from_onset[:, i, :]\n",
    "            mouse_region_spikes[:, int(mouse_neuron_allen_coords[i, 2]/bin_shrinkage_factor), :] = spikes_from_onset[:, i, :]\n",
    "    \n",
    "        print(\"Shape of our total 'flattened' data rebinned: \", mouse_region_spikes.shape)\n",
    "        mice_region_spikes.append(mouse_region_spikes)        \n",
    "        \n",
    "        # Grabbing the label from each trial:\n",
    "        mouse_labels = mouse_select['response'][~np.isnan(movement_onsets)]\n",
    "        mice_labels.append(mouse_labels)\n",
    "        print(\"+\"*50)\n",
    "\n",
    "# Concatenating all of our data by trial:\n",
    "all_mice_region_spikes = np.concatenate(mice_region_spikes, axis = 0)\n",
    "print('shape of all data: ', all_mice_region_spikes.shape)\n",
    "\n",
    "all_mice_region_labels = np.concatenate(mice_labels, axis = 0)\n",
    "print('shape of all labels: ', all_mice_region_labels.shape)"
   ]
  },
  {
   "cell_type": "markdown",
   "id": "c6fccc9c-188d-47d0-b1ae-9decab3a0167",
   "metadata": {},
   "source": [
    "# Constructing out Model"
   ]
  },
  {
   "cell_type": "code",
   "execution_count": 211,
   "id": "1a4c60e2-9451-428b-adc9-9d2328749346",
   "metadata": {},
   "outputs": [],
   "source": [
    "class RNNClassifier(nn.Module):\n",
    "    \"\"\"\n",
    "    RNNClassifier is a class that defines the RNN-based classifier model.\n",
    "\n",
    "    Args:\n",
    "        input_size (int): Size of the input features.\n",
    "        hidden_size (int): Size of the hidden state in the RNN.\n",
    "        num_layers (int): Number of recurrent layers in the RNN.\n",
    "        output_size (int): Size of the output.\n",
    "        model_arch (str): Architecture of the RNN model ('lstm', 'gru', or 'rnn').\n",
    "        dropout (float): Dropout rate for the RNN layers.\n",
    "\n",
    "    Attributes:\n",
    "        hidden_size (int): Size of the hidden state in the RNN.\n",
    "        num_layers (int): Number of recurrent layers in the RNN.\n",
    "        model_arch (str): Architecture of the RNN model ('lstm', 'gru', or 'rnn').\n",
    "        rnn (nn.Module): RNN module (LSTM, GRU, or RNN).\n",
    "        fc (nn.Linear): Fully connected layer for output.\n",
    "        sigmoid (nn.Sigmoid): Sigmoid activation function.\n",
    "    \"\"\"\n",
    "    def __init__(self, input_size, hidden_size, num_layers, output_size, model_arch, dropout):\n",
    "        super(RNNClassifier, self).__init__()\n",
    "\n",
    "        self.hidden_size = hidden_size\n",
    "        self.num_layers = num_layers\n",
    "        self.model_arch = model_arch\n",
    "\n",
    "        # Choose the appropriate RNN module based on the model_arch parameter\n",
    "        if self.model_arch.lower() == 'lstm':\n",
    "            self.rnn = nn.LSTM(input_size, hidden_size, num_layers, batch_first=True, dropout=dropout)\n",
    "        elif self.model_arch.lower() == 'gru':\n",
    "            self.rnn = nn.GRU(input_size, hidden_size, num_layers, batch_first=True, dropout=dropout)\n",
    "        elif self.model_arch.lower() == 'rnn':\n",
    "            self.rnn = nn.RNN(input_size, hidden_size, num_layers, batch_first=True, dropout=dropout)\n",
    "        else:\n",
    "            raise ValueError(\"Select one of lstm, gru, rnn\")\n",
    "\n",
    "        self.fc = nn.Linear(hidden_size, output_size)\n",
    "        self.sigmoid = nn.Sigmoid()\n",
    "\n",
    "    def forward(self, x, lengths, mask):\n",
    "        \"\"\"\n",
    "        Forward pass of the RNNClassifier.\n",
    "\n",
    "        Args:\n",
    "            x (torch.Tensor): Input tensor of shape (batch_size, sequence_length, input_size).\n",
    "            lengths (torch.Tensor): Tensor of sequence lengths for each sequence in the batch.\n",
    "            mask (torch.Tensor): Binary mask indicating valid elements in the padded sequences.\n",
    "\n",
    "        Returns:\n",
    "            torch.Tensor: Output tensor of shape (batch_size, output_size).\n",
    "        \"\"\"\n",
    "        packed_data = pack_padded_sequence(x, lengths, batch_first=True, enforce_sorted=False)\n",
    "        if self.model_arch.lower() == 'lstm':\n",
    "            output, (hidden, _) = self.rnn(packed_data)\n",
    "        else:\n",
    "            output, _ = self.rnn(packed_data)\n",
    "        output, _ = pad_packed_sequence(output, batch_first=True)\n",
    "        out = output * mask.unsqueeze(2)\n",
    "        out = self.fc(out[:, -1, :])\n",
    "        out = self.sigmoid(out)\n",
    "        return out"
   ]
  },
  {
   "cell_type": "markdown",
   "id": "61fe1e40-a52c-4597-a567-08cd3343d73b",
   "metadata": {},
   "source": [
    "# Training our Model"
   ]
  },
  {
   "cell_type": "code",
   "execution_count": 49,
   "id": "07ccef60-b9b2-4f52-b0be-f945b83f783e",
   "metadata": {},
   "outputs": [
    {
     "name": "stdout",
     "output_type": "stream",
     "text": [
      "The device we are using is:  mps\n"
     ]
    },
    {
     "data": {
      "text/plain": [
       "<torch._C.Generator at 0x12a181490>"
      ]
     },
     "execution_count": 49,
     "metadata": {},
     "output_type": "execute_result"
    }
   ],
   "source": [
    "# Training our model\n",
    "\n",
    "# Set the device to MPS (GPU) otherwise run on the CPU\n",
    "device = \"mps\" if torch.backends.mps.is_available() else \"cpu\"\n",
    "print('The device we are using is: ', device)\n",
    "\n",
    "# Set the random seed for reproducibility\n",
    "torch.manual_seed(50)"
   ]
  },
  {
   "cell_type": "code",
   "execution_count": 50,
   "id": "6ad0088f-61f9-49d4-9008-40a165d662b1",
   "metadata": {},
   "outputs": [],
   "source": [
    "# Using our ipython magic commands to run files\n",
    "%run model.py"
   ]
  },
  {
   "cell_type": "code",
   "execution_count": 51,
   "id": "7b222f0b-c67f-4d9d-a541-e6ecd17f1c06",
   "metadata": {},
   "outputs": [
    {
     "name": "stdout",
     "output_type": "stream",
     "text": [
      "The device we are using is:  mps\n",
      "Maximum data length = 89\n",
      "Number of std's above baseline for first threshold:  2\n",
      "Number of data points for second threshold:  10\n"
     ]
    },
    {
     "data": {
      "application/vnd.jupyter.widget-view+json": {
       "model_id": "d0cddd162f224a0aa1ca7b7f78d826cd",
       "version_major": 2,
       "version_minor": 0
      },
      "text/plain": [
       "  0%|          | 0/39 [00:00<?, ?it/s]"
      ]
     },
     "metadata": {},
     "output_type": "display_data"
    },
    {
     "name": "stdout",
     "output_type": "stream",
     "text": [
      "Total Failures to detect onset:  1876\n"
     ]
    },
    {
     "name": "stderr",
     "output_type": "stream",
     "text": [
      "[I 2023-07-27 10:14:19,465] Using an existing study with name 'flatbrain' instead of creating a new one.\n",
      "Best valid loss: 13.651528358459473:   2%|    | 40/2000 [00:41<34:03,  1.04s/it]\n",
      "/Users/johnbuggeln/miniconda3/envs/MLenv/lib/python3.10/site-packages/sklearn/utils/_array_api.py:245: RuntimeWarning: invalid value encountered in cast\n",
      "  return x.astype(dtype, copy=copy, casting=casting)\n",
      "[W 2023-07-27 10:15:01,577] Trial 392 failed with parameters: {'cut': 80, 'dropout': 0.1, 'hidden_size': 16, 'l2': 0.01, 'lr': 0.01, 'model_arch': 'lstm', 'num_layers': 3} because of the following error: ValueError('Input y_pred contains NaN.').\n",
      "Traceback (most recent call last):\n",
      "  File \"/Users/johnbuggeln/miniconda3/envs/MLenv/lib/python3.10/site-packages/optuna/study/_optimize.py\", line 200, in _run_trial\n",
      "    value_or_values = func(trial)\n",
      "  File \"/Users/johnbuggeln/Desktop/NMAproject/modelling.py\", line 79, in optim\n",
      "    return model.cross_validate(X_t, y)\n",
      "  File \"/Users/johnbuggeln/Desktop/NMAproject/model.py\", line 224, in cross_validate\n",
      "    score = f1_score(all_reals, preds)\n",
      "  File \"/Users/johnbuggeln/miniconda3/envs/MLenv/lib/python3.10/site-packages/sklearn/utils/_param_validation.py\", line 211, in wrapper\n",
      "    return func(*args, **kwargs)\n",
      "  File \"/Users/johnbuggeln/miniconda3/envs/MLenv/lib/python3.10/site-packages/sklearn/metrics/_classification.py\", line 1238, in f1_score\n",
      "    return fbeta_score(\n",
      "  File \"/Users/johnbuggeln/miniconda3/envs/MLenv/lib/python3.10/site-packages/sklearn/utils/_param_validation.py\", line 184, in wrapper\n",
      "    return func(*args, **kwargs)\n",
      "  File \"/Users/johnbuggeln/miniconda3/envs/MLenv/lib/python3.10/site-packages/sklearn/metrics/_classification.py\", line 1411, in fbeta_score\n",
      "    _, _, f, _ = precision_recall_fscore_support(\n",
      "  File \"/Users/johnbuggeln/miniconda3/envs/MLenv/lib/python3.10/site-packages/sklearn/utils/_param_validation.py\", line 184, in wrapper\n",
      "    return func(*args, **kwargs)\n",
      "  File \"/Users/johnbuggeln/miniconda3/envs/MLenv/lib/python3.10/site-packages/sklearn/metrics/_classification.py\", line 1721, in precision_recall_fscore_support\n",
      "    labels = _check_set_wise_labels(y_true, y_pred, average, labels, pos_label)\n",
      "  File \"/Users/johnbuggeln/miniconda3/envs/MLenv/lib/python3.10/site-packages/sklearn/metrics/_classification.py\", line 1499, in _check_set_wise_labels\n",
      "    y_type, y_true, y_pred = _check_targets(y_true, y_pred)\n",
      "  File \"/Users/johnbuggeln/miniconda3/envs/MLenv/lib/python3.10/site-packages/sklearn/metrics/_classification.py\", line 86, in _check_targets\n",
      "    type_pred = type_of_target(y_pred, input_name=\"y_pred\")\n",
      "  File \"/Users/johnbuggeln/miniconda3/envs/MLenv/lib/python3.10/site-packages/sklearn/utils/multiclass.py\", line 382, in type_of_target\n",
      "    _assert_all_finite(data, input_name=input_name)\n",
      "  File \"/Users/johnbuggeln/miniconda3/envs/MLenv/lib/python3.10/site-packages/sklearn/utils/validation.py\", line 124, in _assert_all_finite\n",
      "    _assert_all_finite_element_wise(\n",
      "  File \"/Users/johnbuggeln/miniconda3/envs/MLenv/lib/python3.10/site-packages/sklearn/utils/validation.py\", line 173, in _assert_all_finite_element_wise\n",
      "    raise ValueError(msg_err)\n",
      "ValueError: Input y_pred contains NaN.\n",
      "[W 2023-07-27 10:15:01,579] Trial 392 failed with value None.\n"
     ]
    },
    {
     "ename": "ValueError",
     "evalue": "Input y_pred contains NaN.",
     "output_type": "error",
     "traceback": [
      "\u001b[0;31m---------------------------------------------------------------------------\u001b[0m",
      "\u001b[0;31mValueError\u001b[0m                                Traceback (most recent call last)",
      "File \u001b[0;32m~/Desktop/NMAproject/modelling.py:87\u001b[0m\n\u001b[1;32m     84\u001b[0m study \u001b[38;5;241m=\u001b[39m optuna\u001b[38;5;241m.\u001b[39mcreate_study(storage\u001b[38;5;241m=\u001b[39mstorage_name, direction\u001b[38;5;241m=\u001b[39m\u001b[38;5;124m\"\u001b[39m\u001b[38;5;124mmaximize\u001b[39m\u001b[38;5;124m\"\u001b[39m, study_name\u001b[38;5;241m=\u001b[39mstudy_name, load_if_exists\u001b[38;5;241m=\u001b[39m\u001b[38;5;28;01mTrue\u001b[39;00m)\n\u001b[1;32m     86\u001b[0m \u001b[38;5;66;03m# Optimize the hyperparameters using Optuna\u001b[39;00m\n\u001b[0;32m---> 87\u001b[0m \u001b[43mstudy\u001b[49m\u001b[38;5;241;43m.\u001b[39;49m\u001b[43moptimize\u001b[49m\u001b[43m(\u001b[49m\u001b[43moptim\u001b[49m\u001b[43m)\u001b[49m\n",
      "File \u001b[0;32m~/miniconda3/envs/MLenv/lib/python3.10/site-packages/optuna/study/study.py:443\u001b[0m, in \u001b[0;36mStudy.optimize\u001b[0;34m(self, func, n_trials, timeout, n_jobs, catch, callbacks, gc_after_trial, show_progress_bar)\u001b[0m\n\u001b[1;32m    339\u001b[0m \u001b[38;5;28;01mdef\u001b[39;00m \u001b[38;5;21moptimize\u001b[39m(\n\u001b[1;32m    340\u001b[0m     \u001b[38;5;28mself\u001b[39m,\n\u001b[1;32m    341\u001b[0m     func: ObjectiveFuncType,\n\u001b[0;32m   (...)\u001b[0m\n\u001b[1;32m    348\u001b[0m     show_progress_bar: \u001b[38;5;28mbool\u001b[39m \u001b[38;5;241m=\u001b[39m \u001b[38;5;28;01mFalse\u001b[39;00m,\n\u001b[1;32m    349\u001b[0m ) \u001b[38;5;241m-\u001b[39m\u001b[38;5;241m>\u001b[39m \u001b[38;5;28;01mNone\u001b[39;00m:\n\u001b[1;32m    350\u001b[0m \u001b[38;5;250m    \u001b[39m\u001b[38;5;124;03m\"\"\"Optimize an objective function.\u001b[39;00m\n\u001b[1;32m    351\u001b[0m \n\u001b[1;32m    352\u001b[0m \u001b[38;5;124;03m    Optimization is done by choosing a suitable set of hyperparameter values from a given\u001b[39;00m\n\u001b[0;32m   (...)\u001b[0m\n\u001b[1;32m    440\u001b[0m \u001b[38;5;124;03m            If nested invocation of this method occurs.\u001b[39;00m\n\u001b[1;32m    441\u001b[0m \u001b[38;5;124;03m    \"\"\"\u001b[39;00m\n\u001b[0;32m--> 443\u001b[0m     \u001b[43m_optimize\u001b[49m\u001b[43m(\u001b[49m\n\u001b[1;32m    444\u001b[0m \u001b[43m        \u001b[49m\u001b[43mstudy\u001b[49m\u001b[38;5;241;43m=\u001b[39;49m\u001b[38;5;28;43mself\u001b[39;49m\u001b[43m,\u001b[49m\n\u001b[1;32m    445\u001b[0m \u001b[43m        \u001b[49m\u001b[43mfunc\u001b[49m\u001b[38;5;241;43m=\u001b[39;49m\u001b[43mfunc\u001b[49m\u001b[43m,\u001b[49m\n\u001b[1;32m    446\u001b[0m \u001b[43m        \u001b[49m\u001b[43mn_trials\u001b[49m\u001b[38;5;241;43m=\u001b[39;49m\u001b[43mn_trials\u001b[49m\u001b[43m,\u001b[49m\n\u001b[1;32m    447\u001b[0m \u001b[43m        \u001b[49m\u001b[43mtimeout\u001b[49m\u001b[38;5;241;43m=\u001b[39;49m\u001b[43mtimeout\u001b[49m\u001b[43m,\u001b[49m\n\u001b[1;32m    448\u001b[0m \u001b[43m        \u001b[49m\u001b[43mn_jobs\u001b[49m\u001b[38;5;241;43m=\u001b[39;49m\u001b[43mn_jobs\u001b[49m\u001b[43m,\u001b[49m\n\u001b[1;32m    449\u001b[0m \u001b[43m        \u001b[49m\u001b[43mcatch\u001b[49m\u001b[38;5;241;43m=\u001b[39;49m\u001b[38;5;28;43mtuple\u001b[39;49m\u001b[43m(\u001b[49m\u001b[43mcatch\u001b[49m\u001b[43m)\u001b[49m\u001b[43m \u001b[49m\u001b[38;5;28;43;01mif\u001b[39;49;00m\u001b[43m \u001b[49m\u001b[38;5;28;43misinstance\u001b[39;49m\u001b[43m(\u001b[49m\u001b[43mcatch\u001b[49m\u001b[43m,\u001b[49m\u001b[43m \u001b[49m\u001b[43mIterable\u001b[49m\u001b[43m)\u001b[49m\u001b[43m \u001b[49m\u001b[38;5;28;43;01melse\u001b[39;49;00m\u001b[43m \u001b[49m\u001b[43m(\u001b[49m\u001b[43mcatch\u001b[49m\u001b[43m,\u001b[49m\u001b[43m)\u001b[49m\u001b[43m,\u001b[49m\n\u001b[1;32m    450\u001b[0m \u001b[43m        \u001b[49m\u001b[43mcallbacks\u001b[49m\u001b[38;5;241;43m=\u001b[39;49m\u001b[43mcallbacks\u001b[49m\u001b[43m,\u001b[49m\n\u001b[1;32m    451\u001b[0m \u001b[43m        \u001b[49m\u001b[43mgc_after_trial\u001b[49m\u001b[38;5;241;43m=\u001b[39;49m\u001b[43mgc_after_trial\u001b[49m\u001b[43m,\u001b[49m\n\u001b[1;32m    452\u001b[0m \u001b[43m        \u001b[49m\u001b[43mshow_progress_bar\u001b[49m\u001b[38;5;241;43m=\u001b[39;49m\u001b[43mshow_progress_bar\u001b[49m\u001b[43m,\u001b[49m\n\u001b[1;32m    453\u001b[0m \u001b[43m    \u001b[49m\u001b[43m)\u001b[49m\n",
      "File \u001b[0;32m~/miniconda3/envs/MLenv/lib/python3.10/site-packages/optuna/study/_optimize.py:66\u001b[0m, in \u001b[0;36m_optimize\u001b[0;34m(study, func, n_trials, timeout, n_jobs, catch, callbacks, gc_after_trial, show_progress_bar)\u001b[0m\n\u001b[1;32m     64\u001b[0m \u001b[38;5;28;01mtry\u001b[39;00m:\n\u001b[1;32m     65\u001b[0m     \u001b[38;5;28;01mif\u001b[39;00m n_jobs \u001b[38;5;241m==\u001b[39m \u001b[38;5;241m1\u001b[39m:\n\u001b[0;32m---> 66\u001b[0m         \u001b[43m_optimize_sequential\u001b[49m\u001b[43m(\u001b[49m\n\u001b[1;32m     67\u001b[0m \u001b[43m            \u001b[49m\u001b[43mstudy\u001b[49m\u001b[43m,\u001b[49m\n\u001b[1;32m     68\u001b[0m \u001b[43m            \u001b[49m\u001b[43mfunc\u001b[49m\u001b[43m,\u001b[49m\n\u001b[1;32m     69\u001b[0m \u001b[43m            \u001b[49m\u001b[43mn_trials\u001b[49m\u001b[43m,\u001b[49m\n\u001b[1;32m     70\u001b[0m \u001b[43m            \u001b[49m\u001b[43mtimeout\u001b[49m\u001b[43m,\u001b[49m\n\u001b[1;32m     71\u001b[0m \u001b[43m            \u001b[49m\u001b[43mcatch\u001b[49m\u001b[43m,\u001b[49m\n\u001b[1;32m     72\u001b[0m \u001b[43m            \u001b[49m\u001b[43mcallbacks\u001b[49m\u001b[43m,\u001b[49m\n\u001b[1;32m     73\u001b[0m \u001b[43m            \u001b[49m\u001b[43mgc_after_trial\u001b[49m\u001b[43m,\u001b[49m\n\u001b[1;32m     74\u001b[0m \u001b[43m            \u001b[49m\u001b[43mreseed_sampler_rng\u001b[49m\u001b[38;5;241;43m=\u001b[39;49m\u001b[38;5;28;43;01mFalse\u001b[39;49;00m\u001b[43m,\u001b[49m\n\u001b[1;32m     75\u001b[0m \u001b[43m            \u001b[49m\u001b[43mtime_start\u001b[49m\u001b[38;5;241;43m=\u001b[39;49m\u001b[38;5;28;43;01mNone\u001b[39;49;00m\u001b[43m,\u001b[49m\n\u001b[1;32m     76\u001b[0m \u001b[43m            \u001b[49m\u001b[43mprogress_bar\u001b[49m\u001b[38;5;241;43m=\u001b[39;49m\u001b[43mprogress_bar\u001b[49m\u001b[43m,\u001b[49m\n\u001b[1;32m     77\u001b[0m \u001b[43m        \u001b[49m\u001b[43m)\u001b[49m\n\u001b[1;32m     78\u001b[0m     \u001b[38;5;28;01melse\u001b[39;00m:\n\u001b[1;32m     79\u001b[0m         \u001b[38;5;28;01mif\u001b[39;00m n_jobs \u001b[38;5;241m==\u001b[39m \u001b[38;5;241m-\u001b[39m\u001b[38;5;241m1\u001b[39m:\n",
      "File \u001b[0;32m~/miniconda3/envs/MLenv/lib/python3.10/site-packages/optuna/study/_optimize.py:163\u001b[0m, in \u001b[0;36m_optimize_sequential\u001b[0;34m(study, func, n_trials, timeout, catch, callbacks, gc_after_trial, reseed_sampler_rng, time_start, progress_bar)\u001b[0m\n\u001b[1;32m    160\u001b[0m         \u001b[38;5;28;01mbreak\u001b[39;00m\n\u001b[1;32m    162\u001b[0m \u001b[38;5;28;01mtry\u001b[39;00m:\n\u001b[0;32m--> 163\u001b[0m     frozen_trial \u001b[38;5;241m=\u001b[39m \u001b[43m_run_trial\u001b[49m\u001b[43m(\u001b[49m\u001b[43mstudy\u001b[49m\u001b[43m,\u001b[49m\u001b[43m \u001b[49m\u001b[43mfunc\u001b[49m\u001b[43m,\u001b[49m\u001b[43m \u001b[49m\u001b[43mcatch\u001b[49m\u001b[43m)\u001b[49m\n\u001b[1;32m    164\u001b[0m \u001b[38;5;28;01mfinally\u001b[39;00m:\n\u001b[1;32m    165\u001b[0m     \u001b[38;5;66;03m# The following line mitigates memory problems that can be occurred in some\u001b[39;00m\n\u001b[1;32m    166\u001b[0m     \u001b[38;5;66;03m# environments (e.g., services that use computing containers such as GitHub Actions).\u001b[39;00m\n\u001b[1;32m    167\u001b[0m     \u001b[38;5;66;03m# Please refer to the following PR for further details:\u001b[39;00m\n\u001b[1;32m    168\u001b[0m     \u001b[38;5;66;03m# https://github.com/optuna/optuna/pull/325.\u001b[39;00m\n\u001b[1;32m    169\u001b[0m     \u001b[38;5;28;01mif\u001b[39;00m gc_after_trial:\n",
      "File \u001b[0;32m~/miniconda3/envs/MLenv/lib/python3.10/site-packages/optuna/study/_optimize.py:251\u001b[0m, in \u001b[0;36m_run_trial\u001b[0;34m(study, func, catch)\u001b[0m\n\u001b[1;32m    244\u001b[0m         \u001b[38;5;28;01massert\u001b[39;00m \u001b[38;5;28;01mFalse\u001b[39;00m, \u001b[38;5;124m\"\u001b[39m\u001b[38;5;124mShould not reach.\u001b[39m\u001b[38;5;124m\"\u001b[39m\n\u001b[1;32m    246\u001b[0m \u001b[38;5;28;01mif\u001b[39;00m (\n\u001b[1;32m    247\u001b[0m     frozen_trial\u001b[38;5;241m.\u001b[39mstate \u001b[38;5;241m==\u001b[39m TrialState\u001b[38;5;241m.\u001b[39mFAIL\n\u001b[1;32m    248\u001b[0m     \u001b[38;5;129;01mand\u001b[39;00m func_err \u001b[38;5;129;01mis\u001b[39;00m \u001b[38;5;129;01mnot\u001b[39;00m \u001b[38;5;28;01mNone\u001b[39;00m\n\u001b[1;32m    249\u001b[0m     \u001b[38;5;129;01mand\u001b[39;00m \u001b[38;5;129;01mnot\u001b[39;00m \u001b[38;5;28misinstance\u001b[39m(func_err, catch)\n\u001b[1;32m    250\u001b[0m ):\n\u001b[0;32m--> 251\u001b[0m     \u001b[38;5;28;01mraise\u001b[39;00m func_err\n\u001b[1;32m    252\u001b[0m \u001b[38;5;28;01mreturn\u001b[39;00m frozen_trial\n",
      "File \u001b[0;32m~/miniconda3/envs/MLenv/lib/python3.10/site-packages/optuna/study/_optimize.py:200\u001b[0m, in \u001b[0;36m_run_trial\u001b[0;34m(study, func, catch)\u001b[0m\n\u001b[1;32m    198\u001b[0m \u001b[38;5;28;01mwith\u001b[39;00m get_heartbeat_thread(trial\u001b[38;5;241m.\u001b[39m_trial_id, study\u001b[38;5;241m.\u001b[39m_storage):\n\u001b[1;32m    199\u001b[0m     \u001b[38;5;28;01mtry\u001b[39;00m:\n\u001b[0;32m--> 200\u001b[0m         value_or_values \u001b[38;5;241m=\u001b[39m \u001b[43mfunc\u001b[49m\u001b[43m(\u001b[49m\u001b[43mtrial\u001b[49m\u001b[43m)\u001b[49m\n\u001b[1;32m    201\u001b[0m     \u001b[38;5;28;01mexcept\u001b[39;00m exceptions\u001b[38;5;241m.\u001b[39mTrialPruned \u001b[38;5;28;01mas\u001b[39;00m e:\n\u001b[1;32m    202\u001b[0m         \u001b[38;5;66;03m# TODO(mamu): Handle multi-objective cases.\u001b[39;00m\n\u001b[1;32m    203\u001b[0m         state \u001b[38;5;241m=\u001b[39m TrialState\u001b[38;5;241m.\u001b[39mPRUNED\n",
      "File \u001b[0;32m~/Desktop/NMAproject/modelling.py:79\u001b[0m, in \u001b[0;36moptim\u001b[0;34m(trial)\u001b[0m\n\u001b[1;32m     76\u001b[0m model \u001b[38;5;241m=\u001b[39m RNNmodel(input_size, hidden_size, num_layers, output_size, model_arch, num_epochs, batch_size, dropout, l2, lr, device)\n\u001b[1;32m     78\u001b[0m \u001b[38;5;66;03m# Perform cross-validation and return the mean F1 score\u001b[39;00m\n\u001b[0;32m---> 79\u001b[0m \u001b[38;5;28;01mreturn\u001b[39;00m \u001b[43mmodel\u001b[49m\u001b[38;5;241;43m.\u001b[39;49m\u001b[43mcross_validate\u001b[49m\u001b[43m(\u001b[49m\u001b[43mX_t\u001b[49m\u001b[43m,\u001b[49m\u001b[43m \u001b[49m\u001b[43my\u001b[49m\u001b[43m)\u001b[49m\n",
      "File \u001b[0;32m~/Desktop/NMAproject/model.py:224\u001b[0m, in \u001b[0;36mRNNmodel.cross_validate\u001b[0;34m(self, X, y)\u001b[0m\n\u001b[1;32m    222\u001b[0m     \u001b[38;5;28mself\u001b[39m\u001b[38;5;241m.\u001b[39mtrain(dataloader, dataloader_true)\n\u001b[1;32m    223\u001b[0m     preds, all_reals \u001b[38;5;241m=\u001b[39m \u001b[38;5;28mself\u001b[39m\u001b[38;5;241m.\u001b[39mpredict(dataloader_true)\n\u001b[0;32m--> 224\u001b[0m     score \u001b[38;5;241m=\u001b[39m \u001b[43mf1_score\u001b[49m\u001b[43m(\u001b[49m\u001b[43mall_reals\u001b[49m\u001b[43m,\u001b[49m\u001b[43m \u001b[49m\u001b[43mpreds\u001b[49m\u001b[43m)\u001b[49m\n\u001b[1;32m    225\u001b[0m     scores\u001b[38;5;241m.\u001b[39mappend(score)\n\u001b[1;32m    227\u001b[0m \u001b[38;5;28;01mreturn\u001b[39;00m np\u001b[38;5;241m.\u001b[39mmean(scores)\n",
      "File \u001b[0;32m~/miniconda3/envs/MLenv/lib/python3.10/site-packages/sklearn/utils/_param_validation.py:211\u001b[0m, in \u001b[0;36mvalidate_params.<locals>.decorator.<locals>.wrapper\u001b[0;34m(*args, **kwargs)\u001b[0m\n\u001b[1;32m    205\u001b[0m \u001b[38;5;28;01mtry\u001b[39;00m:\n\u001b[1;32m    206\u001b[0m     \u001b[38;5;28;01mwith\u001b[39;00m config_context(\n\u001b[1;32m    207\u001b[0m         skip_parameter_validation\u001b[38;5;241m=\u001b[39m(\n\u001b[1;32m    208\u001b[0m             prefer_skip_nested_validation \u001b[38;5;129;01mor\u001b[39;00m global_skip_validation\n\u001b[1;32m    209\u001b[0m         )\n\u001b[1;32m    210\u001b[0m     ):\n\u001b[0;32m--> 211\u001b[0m         \u001b[38;5;28;01mreturn\u001b[39;00m \u001b[43mfunc\u001b[49m\u001b[43m(\u001b[49m\u001b[38;5;241;43m*\u001b[39;49m\u001b[43margs\u001b[49m\u001b[43m,\u001b[49m\u001b[43m \u001b[49m\u001b[38;5;241;43m*\u001b[39;49m\u001b[38;5;241;43m*\u001b[39;49m\u001b[43mkwargs\u001b[49m\u001b[43m)\u001b[49m\n\u001b[1;32m    212\u001b[0m \u001b[38;5;28;01mexcept\u001b[39;00m InvalidParameterError \u001b[38;5;28;01mas\u001b[39;00m e:\n\u001b[1;32m    213\u001b[0m     \u001b[38;5;66;03m# When the function is just a wrapper around an estimator, we allow\u001b[39;00m\n\u001b[1;32m    214\u001b[0m     \u001b[38;5;66;03m# the function to delegate validation to the estimator, but we replace\u001b[39;00m\n\u001b[1;32m    215\u001b[0m     \u001b[38;5;66;03m# the name of the estimator by the name of the function in the error\u001b[39;00m\n\u001b[1;32m    216\u001b[0m     \u001b[38;5;66;03m# message to avoid confusion.\u001b[39;00m\n\u001b[1;32m    217\u001b[0m     msg \u001b[38;5;241m=\u001b[39m re\u001b[38;5;241m.\u001b[39msub(\n\u001b[1;32m    218\u001b[0m         \u001b[38;5;124mr\u001b[39m\u001b[38;5;124m\"\u001b[39m\u001b[38;5;124mparameter of \u001b[39m\u001b[38;5;124m\\\u001b[39m\u001b[38;5;124mw+ must be\u001b[39m\u001b[38;5;124m\"\u001b[39m,\n\u001b[1;32m    219\u001b[0m         \u001b[38;5;124mf\u001b[39m\u001b[38;5;124m\"\u001b[39m\u001b[38;5;124mparameter of \u001b[39m\u001b[38;5;132;01m{\u001b[39;00mfunc\u001b[38;5;241m.\u001b[39m\u001b[38;5;18m__qualname__\u001b[39m\u001b[38;5;132;01m}\u001b[39;00m\u001b[38;5;124m must be\u001b[39m\u001b[38;5;124m\"\u001b[39m,\n\u001b[1;32m    220\u001b[0m         \u001b[38;5;28mstr\u001b[39m(e),\n\u001b[1;32m    221\u001b[0m     )\n",
      "File \u001b[0;32m~/miniconda3/envs/MLenv/lib/python3.10/site-packages/sklearn/metrics/_classification.py:1238\u001b[0m, in \u001b[0;36mf1_score\u001b[0;34m(y_true, y_pred, labels, pos_label, average, sample_weight, zero_division)\u001b[0m\n\u001b[1;32m   1070\u001b[0m \u001b[38;5;129m@validate_params\u001b[39m(\n\u001b[1;32m   1071\u001b[0m     {\n\u001b[1;32m   1072\u001b[0m         \u001b[38;5;124m\"\u001b[39m\u001b[38;5;124my_true\u001b[39m\u001b[38;5;124m\"\u001b[39m: [\u001b[38;5;124m\"\u001b[39m\u001b[38;5;124marray-like\u001b[39m\u001b[38;5;124m\"\u001b[39m, \u001b[38;5;124m\"\u001b[39m\u001b[38;5;124msparse matrix\u001b[39m\u001b[38;5;124m\"\u001b[39m],\n\u001b[0;32m   (...)\u001b[0m\n\u001b[1;32m   1096\u001b[0m     zero_division\u001b[38;5;241m=\u001b[39m\u001b[38;5;124m\"\u001b[39m\u001b[38;5;124mwarn\u001b[39m\u001b[38;5;124m\"\u001b[39m,\n\u001b[1;32m   1097\u001b[0m ):\n\u001b[1;32m   1098\u001b[0m \u001b[38;5;250m    \u001b[39m\u001b[38;5;124;03m\"\"\"Compute the F1 score, also known as balanced F-score or F-measure.\u001b[39;00m\n\u001b[1;32m   1099\u001b[0m \n\u001b[1;32m   1100\u001b[0m \u001b[38;5;124;03m    The F1 score can be interpreted as a harmonic mean of the precision and\u001b[39;00m\n\u001b[0;32m   (...)\u001b[0m\n\u001b[1;32m   1236\u001b[0m \u001b[38;5;124;03m    array([0.66666667, 1.        , 0.66666667])\u001b[39;00m\n\u001b[1;32m   1237\u001b[0m \u001b[38;5;124;03m    \"\"\"\u001b[39;00m\n\u001b[0;32m-> 1238\u001b[0m     \u001b[38;5;28;01mreturn\u001b[39;00m \u001b[43mfbeta_score\u001b[49m\u001b[43m(\u001b[49m\n\u001b[1;32m   1239\u001b[0m \u001b[43m        \u001b[49m\u001b[43my_true\u001b[49m\u001b[43m,\u001b[49m\n\u001b[1;32m   1240\u001b[0m \u001b[43m        \u001b[49m\u001b[43my_pred\u001b[49m\u001b[43m,\u001b[49m\n\u001b[1;32m   1241\u001b[0m \u001b[43m        \u001b[49m\u001b[43mbeta\u001b[49m\u001b[38;5;241;43m=\u001b[39;49m\u001b[38;5;241;43m1\u001b[39;49m\u001b[43m,\u001b[49m\n\u001b[1;32m   1242\u001b[0m \u001b[43m        \u001b[49m\u001b[43mlabels\u001b[49m\u001b[38;5;241;43m=\u001b[39;49m\u001b[43mlabels\u001b[49m\u001b[43m,\u001b[49m\n\u001b[1;32m   1243\u001b[0m \u001b[43m        \u001b[49m\u001b[43mpos_label\u001b[49m\u001b[38;5;241;43m=\u001b[39;49m\u001b[43mpos_label\u001b[49m\u001b[43m,\u001b[49m\n\u001b[1;32m   1244\u001b[0m \u001b[43m        \u001b[49m\u001b[43maverage\u001b[49m\u001b[38;5;241;43m=\u001b[39;49m\u001b[43maverage\u001b[49m\u001b[43m,\u001b[49m\n\u001b[1;32m   1245\u001b[0m \u001b[43m        \u001b[49m\u001b[43msample_weight\u001b[49m\u001b[38;5;241;43m=\u001b[39;49m\u001b[43msample_weight\u001b[49m\u001b[43m,\u001b[49m\n\u001b[1;32m   1246\u001b[0m \u001b[43m        \u001b[49m\u001b[43mzero_division\u001b[49m\u001b[38;5;241;43m=\u001b[39;49m\u001b[43mzero_division\u001b[49m\u001b[43m,\u001b[49m\n\u001b[1;32m   1247\u001b[0m \u001b[43m    \u001b[49m\u001b[43m)\u001b[49m\n",
      "File \u001b[0;32m~/miniconda3/envs/MLenv/lib/python3.10/site-packages/sklearn/utils/_param_validation.py:184\u001b[0m, in \u001b[0;36mvalidate_params.<locals>.decorator.<locals>.wrapper\u001b[0;34m(*args, **kwargs)\u001b[0m\n\u001b[1;32m    182\u001b[0m global_skip_validation \u001b[38;5;241m=\u001b[39m get_config()[\u001b[38;5;124m\"\u001b[39m\u001b[38;5;124mskip_parameter_validation\u001b[39m\u001b[38;5;124m\"\u001b[39m]\n\u001b[1;32m    183\u001b[0m \u001b[38;5;28;01mif\u001b[39;00m global_skip_validation:\n\u001b[0;32m--> 184\u001b[0m     \u001b[38;5;28;01mreturn\u001b[39;00m \u001b[43mfunc\u001b[49m\u001b[43m(\u001b[49m\u001b[38;5;241;43m*\u001b[39;49m\u001b[43margs\u001b[49m\u001b[43m,\u001b[49m\u001b[43m \u001b[49m\u001b[38;5;241;43m*\u001b[39;49m\u001b[38;5;241;43m*\u001b[39;49m\u001b[43mkwargs\u001b[49m\u001b[43m)\u001b[49m\n\u001b[1;32m    186\u001b[0m func_sig \u001b[38;5;241m=\u001b[39m signature(func)\n\u001b[1;32m    188\u001b[0m \u001b[38;5;66;03m# Map *args/**kwargs to the function signature\u001b[39;00m\n",
      "File \u001b[0;32m~/miniconda3/envs/MLenv/lib/python3.10/site-packages/sklearn/metrics/_classification.py:1411\u001b[0m, in \u001b[0;36mfbeta_score\u001b[0;34m(y_true, y_pred, beta, labels, pos_label, average, sample_weight, zero_division)\u001b[0m\n\u001b[1;32m   1250\u001b[0m \u001b[38;5;129m@validate_params\u001b[39m(\n\u001b[1;32m   1251\u001b[0m     {\n\u001b[1;32m   1252\u001b[0m         \u001b[38;5;124m\"\u001b[39m\u001b[38;5;124my_true\u001b[39m\u001b[38;5;124m\"\u001b[39m: [\u001b[38;5;124m\"\u001b[39m\u001b[38;5;124marray-like\u001b[39m\u001b[38;5;124m\"\u001b[39m, \u001b[38;5;124m\"\u001b[39m\u001b[38;5;124msparse matrix\u001b[39m\u001b[38;5;124m\"\u001b[39m],\n\u001b[0;32m   (...)\u001b[0m\n\u001b[1;32m   1278\u001b[0m     zero_division\u001b[38;5;241m=\u001b[39m\u001b[38;5;124m\"\u001b[39m\u001b[38;5;124mwarn\u001b[39m\u001b[38;5;124m\"\u001b[39m,\n\u001b[1;32m   1279\u001b[0m ):\n\u001b[1;32m   1280\u001b[0m \u001b[38;5;250m    \u001b[39m\u001b[38;5;124;03m\"\"\"Compute the F-beta score.\u001b[39;00m\n\u001b[1;32m   1281\u001b[0m \n\u001b[1;32m   1282\u001b[0m \u001b[38;5;124;03m    The F-beta score is the weighted harmonic mean of precision and recall,\u001b[39;00m\n\u001b[0;32m   (...)\u001b[0m\n\u001b[1;32m   1408\u001b[0m \u001b[38;5;124;03m    0.38...\u001b[39;00m\n\u001b[1;32m   1409\u001b[0m \u001b[38;5;124;03m    \"\"\"\u001b[39;00m\n\u001b[0;32m-> 1411\u001b[0m     _, _, f, _ \u001b[38;5;241m=\u001b[39m \u001b[43mprecision_recall_fscore_support\u001b[49m\u001b[43m(\u001b[49m\n\u001b[1;32m   1412\u001b[0m \u001b[43m        \u001b[49m\u001b[43my_true\u001b[49m\u001b[43m,\u001b[49m\n\u001b[1;32m   1413\u001b[0m \u001b[43m        \u001b[49m\u001b[43my_pred\u001b[49m\u001b[43m,\u001b[49m\n\u001b[1;32m   1414\u001b[0m \u001b[43m        \u001b[49m\u001b[43mbeta\u001b[49m\u001b[38;5;241;43m=\u001b[39;49m\u001b[43mbeta\u001b[49m\u001b[43m,\u001b[49m\n\u001b[1;32m   1415\u001b[0m \u001b[43m        \u001b[49m\u001b[43mlabels\u001b[49m\u001b[38;5;241;43m=\u001b[39;49m\u001b[43mlabels\u001b[49m\u001b[43m,\u001b[49m\n\u001b[1;32m   1416\u001b[0m \u001b[43m        \u001b[49m\u001b[43mpos_label\u001b[49m\u001b[38;5;241;43m=\u001b[39;49m\u001b[43mpos_label\u001b[49m\u001b[43m,\u001b[49m\n\u001b[1;32m   1417\u001b[0m \u001b[43m        \u001b[49m\u001b[43maverage\u001b[49m\u001b[38;5;241;43m=\u001b[39;49m\u001b[43maverage\u001b[49m\u001b[43m,\u001b[49m\n\u001b[1;32m   1418\u001b[0m \u001b[43m        \u001b[49m\u001b[43mwarn_for\u001b[49m\u001b[38;5;241;43m=\u001b[39;49m\u001b[43m(\u001b[49m\u001b[38;5;124;43m\"\u001b[39;49m\u001b[38;5;124;43mf-score\u001b[39;49m\u001b[38;5;124;43m\"\u001b[39;49m\u001b[43m,\u001b[49m\u001b[43m)\u001b[49m\u001b[43m,\u001b[49m\n\u001b[1;32m   1419\u001b[0m \u001b[43m        \u001b[49m\u001b[43msample_weight\u001b[49m\u001b[38;5;241;43m=\u001b[39;49m\u001b[43msample_weight\u001b[49m\u001b[43m,\u001b[49m\n\u001b[1;32m   1420\u001b[0m \u001b[43m        \u001b[49m\u001b[43mzero_division\u001b[49m\u001b[38;5;241;43m=\u001b[39;49m\u001b[43mzero_division\u001b[49m\u001b[43m,\u001b[49m\n\u001b[1;32m   1421\u001b[0m \u001b[43m    \u001b[49m\u001b[43m)\u001b[49m\n\u001b[1;32m   1422\u001b[0m     \u001b[38;5;28;01mreturn\u001b[39;00m f\n",
      "File \u001b[0;32m~/miniconda3/envs/MLenv/lib/python3.10/site-packages/sklearn/utils/_param_validation.py:184\u001b[0m, in \u001b[0;36mvalidate_params.<locals>.decorator.<locals>.wrapper\u001b[0;34m(*args, **kwargs)\u001b[0m\n\u001b[1;32m    182\u001b[0m global_skip_validation \u001b[38;5;241m=\u001b[39m get_config()[\u001b[38;5;124m\"\u001b[39m\u001b[38;5;124mskip_parameter_validation\u001b[39m\u001b[38;5;124m\"\u001b[39m]\n\u001b[1;32m    183\u001b[0m \u001b[38;5;28;01mif\u001b[39;00m global_skip_validation:\n\u001b[0;32m--> 184\u001b[0m     \u001b[38;5;28;01mreturn\u001b[39;00m \u001b[43mfunc\u001b[49m\u001b[43m(\u001b[49m\u001b[38;5;241;43m*\u001b[39;49m\u001b[43margs\u001b[49m\u001b[43m,\u001b[49m\u001b[43m \u001b[49m\u001b[38;5;241;43m*\u001b[39;49m\u001b[38;5;241;43m*\u001b[39;49m\u001b[43mkwargs\u001b[49m\u001b[43m)\u001b[49m\n\u001b[1;32m    186\u001b[0m func_sig \u001b[38;5;241m=\u001b[39m signature(func)\n\u001b[1;32m    188\u001b[0m \u001b[38;5;66;03m# Map *args/**kwargs to the function signature\u001b[39;00m\n",
      "File \u001b[0;32m~/miniconda3/envs/MLenv/lib/python3.10/site-packages/sklearn/metrics/_classification.py:1721\u001b[0m, in \u001b[0;36mprecision_recall_fscore_support\u001b[0;34m(y_true, y_pred, beta, labels, pos_label, average, warn_for, sample_weight, zero_division)\u001b[0m\n\u001b[1;32m   1563\u001b[0m \u001b[38;5;250m\u001b[39m\u001b[38;5;124;03m\"\"\"Compute precision, recall, F-measure and support for each class.\u001b[39;00m\n\u001b[1;32m   1564\u001b[0m \n\u001b[1;32m   1565\u001b[0m \u001b[38;5;124;03mThe precision is the ratio ``tp / (tp + fp)`` where ``tp`` is the number of\u001b[39;00m\n\u001b[0;32m   (...)\u001b[0m\n\u001b[1;32m   1718\u001b[0m \u001b[38;5;124;03m array([2, 2, 2]))\u001b[39;00m\n\u001b[1;32m   1719\u001b[0m \u001b[38;5;124;03m\"\"\"\u001b[39;00m\n\u001b[1;32m   1720\u001b[0m zero_division_value \u001b[38;5;241m=\u001b[39m _check_zero_division(zero_division)\n\u001b[0;32m-> 1721\u001b[0m labels \u001b[38;5;241m=\u001b[39m \u001b[43m_check_set_wise_labels\u001b[49m\u001b[43m(\u001b[49m\u001b[43my_true\u001b[49m\u001b[43m,\u001b[49m\u001b[43m \u001b[49m\u001b[43my_pred\u001b[49m\u001b[43m,\u001b[49m\u001b[43m \u001b[49m\u001b[43maverage\u001b[49m\u001b[43m,\u001b[49m\u001b[43m \u001b[49m\u001b[43mlabels\u001b[49m\u001b[43m,\u001b[49m\u001b[43m \u001b[49m\u001b[43mpos_label\u001b[49m\u001b[43m)\u001b[49m\n\u001b[1;32m   1723\u001b[0m \u001b[38;5;66;03m# Calculate tp_sum, pred_sum, true_sum ###\u001b[39;00m\n\u001b[1;32m   1724\u001b[0m samplewise \u001b[38;5;241m=\u001b[39m average \u001b[38;5;241m==\u001b[39m \u001b[38;5;124m\"\u001b[39m\u001b[38;5;124msamples\u001b[39m\u001b[38;5;124m\"\u001b[39m\n",
      "File \u001b[0;32m~/miniconda3/envs/MLenv/lib/python3.10/site-packages/sklearn/metrics/_classification.py:1499\u001b[0m, in \u001b[0;36m_check_set_wise_labels\u001b[0;34m(y_true, y_pred, average, labels, pos_label)\u001b[0m\n\u001b[1;32m   1496\u001b[0m \u001b[38;5;28;01mif\u001b[39;00m average \u001b[38;5;129;01mnot\u001b[39;00m \u001b[38;5;129;01min\u001b[39;00m average_options \u001b[38;5;129;01mand\u001b[39;00m average \u001b[38;5;241m!=\u001b[39m \u001b[38;5;124m\"\u001b[39m\u001b[38;5;124mbinary\u001b[39m\u001b[38;5;124m\"\u001b[39m:\n\u001b[1;32m   1497\u001b[0m     \u001b[38;5;28;01mraise\u001b[39;00m \u001b[38;5;167;01mValueError\u001b[39;00m(\u001b[38;5;124m\"\u001b[39m\u001b[38;5;124maverage has to be one of \u001b[39m\u001b[38;5;124m\"\u001b[39m \u001b[38;5;241m+\u001b[39m \u001b[38;5;28mstr\u001b[39m(average_options))\n\u001b[0;32m-> 1499\u001b[0m y_type, y_true, y_pred \u001b[38;5;241m=\u001b[39m \u001b[43m_check_targets\u001b[49m\u001b[43m(\u001b[49m\u001b[43my_true\u001b[49m\u001b[43m,\u001b[49m\u001b[43m \u001b[49m\u001b[43my_pred\u001b[49m\u001b[43m)\u001b[49m\n\u001b[1;32m   1500\u001b[0m \u001b[38;5;66;03m# Convert to Python primitive type to avoid NumPy type / Python str\u001b[39;00m\n\u001b[1;32m   1501\u001b[0m \u001b[38;5;66;03m# comparison. See https://github.com/numpy/numpy/issues/6784\u001b[39;00m\n\u001b[1;32m   1502\u001b[0m present_labels \u001b[38;5;241m=\u001b[39m unique_labels(y_true, y_pred)\u001b[38;5;241m.\u001b[39mtolist()\n",
      "File \u001b[0;32m~/miniconda3/envs/MLenv/lib/python3.10/site-packages/sklearn/metrics/_classification.py:86\u001b[0m, in \u001b[0;36m_check_targets\u001b[0;34m(y_true, y_pred)\u001b[0m\n\u001b[1;32m     84\u001b[0m check_consistent_length(y_true, y_pred)\n\u001b[1;32m     85\u001b[0m type_true \u001b[38;5;241m=\u001b[39m type_of_target(y_true, input_name\u001b[38;5;241m=\u001b[39m\u001b[38;5;124m\"\u001b[39m\u001b[38;5;124my_true\u001b[39m\u001b[38;5;124m\"\u001b[39m)\n\u001b[0;32m---> 86\u001b[0m type_pred \u001b[38;5;241m=\u001b[39m \u001b[43mtype_of_target\u001b[49m\u001b[43m(\u001b[49m\u001b[43my_pred\u001b[49m\u001b[43m,\u001b[49m\u001b[43m \u001b[49m\u001b[43minput_name\u001b[49m\u001b[38;5;241;43m=\u001b[39;49m\u001b[38;5;124;43m\"\u001b[39;49m\u001b[38;5;124;43my_pred\u001b[39;49m\u001b[38;5;124;43m\"\u001b[39;49m\u001b[43m)\u001b[49m\n\u001b[1;32m     88\u001b[0m y_type \u001b[38;5;241m=\u001b[39m {type_true, type_pred}\n\u001b[1;32m     89\u001b[0m \u001b[38;5;28;01mif\u001b[39;00m y_type \u001b[38;5;241m==\u001b[39m {\u001b[38;5;124m\"\u001b[39m\u001b[38;5;124mbinary\u001b[39m\u001b[38;5;124m\"\u001b[39m, \u001b[38;5;124m\"\u001b[39m\u001b[38;5;124mmulticlass\u001b[39m\u001b[38;5;124m\"\u001b[39m}:\n",
      "File \u001b[0;32m~/miniconda3/envs/MLenv/lib/python3.10/site-packages/sklearn/utils/multiclass.py:382\u001b[0m, in \u001b[0;36mtype_of_target\u001b[0;34m(y, input_name)\u001b[0m\n\u001b[1;32m    380\u001b[0m     data \u001b[38;5;241m=\u001b[39m y\u001b[38;5;241m.\u001b[39mdata \u001b[38;5;28;01mif\u001b[39;00m issparse(y) \u001b[38;5;28;01melse\u001b[39;00m y\n\u001b[1;32m    381\u001b[0m     \u001b[38;5;28;01mif\u001b[39;00m xp\u001b[38;5;241m.\u001b[39many(data \u001b[38;5;241m!=\u001b[39m xp\u001b[38;5;241m.\u001b[39mastype(data, \u001b[38;5;28mint\u001b[39m)):\n\u001b[0;32m--> 382\u001b[0m         \u001b[43m_assert_all_finite\u001b[49m\u001b[43m(\u001b[49m\u001b[43mdata\u001b[49m\u001b[43m,\u001b[49m\u001b[43m \u001b[49m\u001b[43minput_name\u001b[49m\u001b[38;5;241;43m=\u001b[39;49m\u001b[43minput_name\u001b[49m\u001b[43m)\u001b[49m\n\u001b[1;32m    383\u001b[0m         \u001b[38;5;28;01mreturn\u001b[39;00m \u001b[38;5;124m\"\u001b[39m\u001b[38;5;124mcontinuous\u001b[39m\u001b[38;5;124m\"\u001b[39m \u001b[38;5;241m+\u001b[39m suffix\n\u001b[1;32m    385\u001b[0m \u001b[38;5;66;03m# Check multiclass\u001b[39;00m\n",
      "File \u001b[0;32m~/miniconda3/envs/MLenv/lib/python3.10/site-packages/sklearn/utils/validation.py:124\u001b[0m, in \u001b[0;36m_assert_all_finite\u001b[0;34m(X, allow_nan, msg_dtype, estimator_name, input_name)\u001b[0m\n\u001b[1;32m    121\u001b[0m \u001b[38;5;28;01mif\u001b[39;00m first_pass_isfinite:\n\u001b[1;32m    122\u001b[0m     \u001b[38;5;28;01mreturn\u001b[39;00m\n\u001b[0;32m--> 124\u001b[0m \u001b[43m_assert_all_finite_element_wise\u001b[49m\u001b[43m(\u001b[49m\n\u001b[1;32m    125\u001b[0m \u001b[43m    \u001b[49m\u001b[43mX\u001b[49m\u001b[43m,\u001b[49m\n\u001b[1;32m    126\u001b[0m \u001b[43m    \u001b[49m\u001b[43mxp\u001b[49m\u001b[38;5;241;43m=\u001b[39;49m\u001b[43mxp\u001b[49m\u001b[43m,\u001b[49m\n\u001b[1;32m    127\u001b[0m \u001b[43m    \u001b[49m\u001b[43mallow_nan\u001b[49m\u001b[38;5;241;43m=\u001b[39;49m\u001b[43mallow_nan\u001b[49m\u001b[43m,\u001b[49m\n\u001b[1;32m    128\u001b[0m \u001b[43m    \u001b[49m\u001b[43mmsg_dtype\u001b[49m\u001b[38;5;241;43m=\u001b[39;49m\u001b[43mmsg_dtype\u001b[49m\u001b[43m,\u001b[49m\n\u001b[1;32m    129\u001b[0m \u001b[43m    \u001b[49m\u001b[43mestimator_name\u001b[49m\u001b[38;5;241;43m=\u001b[39;49m\u001b[43mestimator_name\u001b[49m\u001b[43m,\u001b[49m\n\u001b[1;32m    130\u001b[0m \u001b[43m    \u001b[49m\u001b[43minput_name\u001b[49m\u001b[38;5;241;43m=\u001b[39;49m\u001b[43minput_name\u001b[49m\u001b[43m,\u001b[49m\n\u001b[1;32m    131\u001b[0m \u001b[43m\u001b[49m\u001b[43m)\u001b[49m\n",
      "File \u001b[0;32m~/miniconda3/envs/MLenv/lib/python3.10/site-packages/sklearn/utils/validation.py:173\u001b[0m, in \u001b[0;36m_assert_all_finite_element_wise\u001b[0;34m(X, xp, allow_nan, msg_dtype, estimator_name, input_name)\u001b[0m\n\u001b[1;32m    156\u001b[0m \u001b[38;5;28;01mif\u001b[39;00m estimator_name \u001b[38;5;129;01mand\u001b[39;00m input_name \u001b[38;5;241m==\u001b[39m \u001b[38;5;124m\"\u001b[39m\u001b[38;5;124mX\u001b[39m\u001b[38;5;124m\"\u001b[39m \u001b[38;5;129;01mand\u001b[39;00m has_nan_error:\n\u001b[1;32m    157\u001b[0m     \u001b[38;5;66;03m# Improve the error message on how to handle missing values in\u001b[39;00m\n\u001b[1;32m    158\u001b[0m     \u001b[38;5;66;03m# scikit-learn.\u001b[39;00m\n\u001b[1;32m    159\u001b[0m     msg_err \u001b[38;5;241m+\u001b[39m\u001b[38;5;241m=\u001b[39m (\n\u001b[1;32m    160\u001b[0m         \u001b[38;5;124mf\u001b[39m\u001b[38;5;124m\"\u001b[39m\u001b[38;5;130;01m\\n\u001b[39;00m\u001b[38;5;132;01m{\u001b[39;00mestimator_name\u001b[38;5;132;01m}\u001b[39;00m\u001b[38;5;124m does not accept missing values\u001b[39m\u001b[38;5;124m\"\u001b[39m\n\u001b[1;32m    161\u001b[0m         \u001b[38;5;124m\"\u001b[39m\u001b[38;5;124m encoded as NaN natively. For supervised learning, you might want\u001b[39m\u001b[38;5;124m\"\u001b[39m\n\u001b[0;32m   (...)\u001b[0m\n\u001b[1;32m    171\u001b[0m         \u001b[38;5;124m\"\u001b[39m\u001b[38;5;124m#estimators-that-handle-nan-values\u001b[39m\u001b[38;5;124m\"\u001b[39m\n\u001b[1;32m    172\u001b[0m     )\n\u001b[0;32m--> 173\u001b[0m \u001b[38;5;28;01mraise\u001b[39;00m \u001b[38;5;167;01mValueError\u001b[39;00m(msg_err)\n",
      "\u001b[0;31mValueError\u001b[0m: Input y_pred contains NaN."
     ]
    }
   ],
   "source": [
    "# Running our optuna hyperparameter optimization\n",
    "%run modelling.py"
   ]
  },
  {
   "cell_type": "code",
   "execution_count": null,
   "id": "c1342b83-8814-4006-8829-ac8a1ba104f7",
   "metadata": {},
   "outputs": [],
   "source": []
  }
 ],
 "metadata": {
  "kernelspec": {
   "display_name": "Python3.10 (MLenv)",
   "language": "python",
   "name": "mlenv"
  },
  "language_info": {
   "codemirror_mode": {
    "name": "ipython",
    "version": 3
   },
   "file_extension": ".py",
   "mimetype": "text/x-python",
   "name": "python",
   "nbconvert_exporter": "python",
   "pygments_lexer": "ipython3",
   "version": "3.10.12"
  }
 },
 "nbformat": 4,
 "nbformat_minor": 5
}
